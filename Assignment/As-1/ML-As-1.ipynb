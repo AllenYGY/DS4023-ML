{
 "cells": [
  {
   "cell_type": "markdown",
   "metadata": {},
   "source": [
    "# Task 1"
   ]
  },
  {
   "cell_type": "code",
   "execution_count": 3,
   "metadata": {},
   "outputs": [],
   "source": [
    "\n",
    "# You should return your result. \n",
    "\n",
    "import numpy as np \n",
    "\n",
    "def insertSecond(a, b):\n",
    "    return np.insert(a, 1, b)\n",
    "\n",
    "assert np.array_equal(insertSecond(np.array([-5,-10,-12,-6]),5), np.array([-5, 5, -10, -12, -6]))\n",
    "assert np.array_equal(insertSecond(np.array([1,2,3]),7), np.array([1, 7, 2, 3]))\n",
    "assert np.array_equal(insertSecond(np.array([-5,-10,-12,-6]),8), np.array([ -5, 8, -10,-12, -6]))\n",
    "assert np.array_equal(insertSecond(np.array([1,2,3]),12), np.array([1, 12, 2, 3]))"
   ]
  },
  {
   "cell_type": "markdown",
   "metadata": {},
   "source": [
    "# Task 2"
   ]
  },
  {
   "cell_type": "code",
   "execution_count": 7,
   "metadata": {},
   "outputs": [],
   "source": [
    "import numpy as np \n",
    "\n",
    "def mergeArrays(a,b):\n",
    "    return np.sort(np.unique(np.concatenate((a,b))))\n",
    "\n",
    "# Test cases \n",
    "assert np.array_equal(mergeArrays(np.array([1,1,4,8,1]), np.array([2, 3])), np.array([1, 2, 3, 4, 8])) \n",
    "assert np.array_equal(mergeArrays(np.array([-5,-10,-10,-6]), np.array([-5, 8, -10, -12,-6])),np.array([-12, -10, -6, -5, 8]) )\n",
    "assert np.array_equal(mergeArrays(np.array([1,1,6,8,1]), np.array([2, 3])), np.array([1, 2, 3, 6, 8]))"
   ]
  },
  {
   "cell_type": "markdown",
   "metadata": {},
   "source": [
    "# Task 3"
   ]
  },
  {
   "cell_type": "code",
   "execution_count": 4,
   "metadata": {},
   "outputs": [
    {
     "data": {
      "image/png": "[encoded data removed]",
      "text/plain": [
       "<Figure size 640x480 with 1 Axes>"
      ]
     },
     "metadata": {},
     "output_type": "display_data"
    }
   ],
   "source": [
    "import numpy as np\n",
    "import matplotlib.pyplot as plt\n",
    "\n",
    "# data to plot\n",
    "n_groups = 5\n",
    "men_means = (22, 30, 33, 30, 26)\n",
    "women_means = (25, 32, 30, 35, 29)\n",
    "alpha = 0.5\n",
    "\n",
    "fig, ax = plt.subplots()\n",
    "index = np.arange(n_groups)\n",
    "bar_width = 0.4\n",
    "opacity = 0.8\n",
    "\n",
    "rects1 = plt.bar(index, men_means, bar_width,\n",
    "alpha=0.5,\n",
    "color='g',\n",
    "label='Men')\n",
    "\n",
    "rects2 = plt.bar(index + bar_width, women_means, bar_width,\n",
    "alpha=0.5,\n",
    "color='r',\n",
    "label='Women')\n",
    "\n",
    "plt.xlabel('Person')\n",
    "plt.ylabel('Scores')\n",
    "plt.title('Scores by person')\n",
    "plt.xticks(index + bar_width / 2, ('G1', 'G2', 'G3', 'G4', 'G5'))\n",
    "plt.legend()\n",
    "\n",
    "plt.tight_layout()\n",
    "plt.show()\n"
   ]
  },
  {
   "cell_type": "markdown",
   "metadata": {},
   "source": [
    "# Task 4"
   ]
  },
  {
   "cell_type": "code",
   "execution_count": 5,
   "metadata": {},
   "outputs": [],
   "source": [
    "import pandas as pd\n",
    "\n",
    "\n",
    "def setDataFrameZeros(df):\n",
    "    rows = df.isin([0]).any(axis=1)\n",
    "    cols = df.isin([0]).any(axis=0)\n",
    "    df.loc[rows, :] = 0\n",
    "    df.loc[:, cols] = 0\n",
    "    return df\n",
    "\n",
    "df1 = pd.DataFrame({'c1': [1, 4, 7], 'c2': [2, 0, 8], 'c3': [3, 6, 9]})\n",
    "df2 = pd.DataFrame({'c1': [1, 0, 7], 'c2': [0, 0, 0], 'c3': [3, 0, 9]})\n",
    "(df2.equals(setDataFrameZeros(df1)))\n",
    "\n",
    "df1 = pd.DataFrame({'c1': [0, 3, 1], 'c2': [1, 4, 3], 'c3': [2, 5, 1], 'c4': [0, 2, 5]})\n",
    "df2 = pd.DataFrame({'c1': [0, 0, 0], 'c2': [0, 4, 3], 'c3': [0, 5, 1], 'c4': [0, 0, 0]})\n",
    "assert (df2.equals(setDataFrameZeros(df1)))\n",
    "\n",
    "df1 = pd.DataFrame({'c1': [1, 4, 7], 'c2': [2, 0, 8], 'c3': [3, 6, 9]})\n",
    "df2 = pd.DataFrame({'c1': [1, 0, 7], 'c2': [0, 0, 0], 'c3': [3, 0, 9]})\n",
    "assert (df2.equals(setDataFrameZeros(df1)))\n",
    "\n",
    "df1 = pd.DataFrame({'c1': [0, 3, 1], 'c2': [1, 4, 3], 'c3': [2, 5, 1], 'c4': [0, 2, 5]})\n",
    "df2 = pd.DataFrame({\n",
    "    'c1': [0, 0, 0],\n",
    "    'c2': [0, 4, 3],\n",
    "    'c3': [0, 5, 1],\n",
    "    'c4': [0, 0, 0]\n",
    "})\n",
    "assert (df2.equals(setDataFrameZeros(df1)))"
   ]
  }
 ],
 "metadata": {
  "kernelspec": {
   "display_name": "ML",
   "language": "python",
   "name": "python3"
  },
  "language_info": {
   "codemirror_mode": {
    "name": "ipython",
    "version": 3
   },
   "file_extension": ".py",
   "mimetype": "text/x-python",
   "name": "python",
   "nbconvert_exporter": "python",
   "pygments_lexer": "ipython3",
   "version": "3.12.7"
  }
 },
 "nbformat": 4,
 "nbformat_minor": 4
}
