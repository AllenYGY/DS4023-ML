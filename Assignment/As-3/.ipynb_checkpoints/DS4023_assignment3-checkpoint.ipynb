{
 "cells": [
  {
   "cell_type": "markdown",
   "id": "a99a96a8",
   "metadata": {},
   "source": [
    "# DS4023 Assignment 3: SVM and Ensemble Learning(45 pts)"
   ]
  },
  {
   "cell_type": "markdown",
   "id": "333fec31-b107-4f81-bc63-b3179365b968",
   "metadata": {},
   "source": [
    "### Q1: Soft-margin SVM (9 pts)\n",
    "\n",
    "You are given a dataset (svm_soft.mat) containing 2D points ['X'] from two classes with corresponding label (0 or 1) in column ['y']. Please visualize the datapoints and classify them using linear SVM with soft margin. You may assume that the penalty term $C$ is set to 1 in $min_{w,b} \\frac{1}{2} ||w||^2+ C\\sum_i \\epsilon_i$."
   ]
  },
  {
   "cell_type": "code",
   "execution_count": null,
   "id": "782c9dc5-59e1-4c13-851d-c07ce5779ba1",
   "metadata": {},
   "outputs": [],
   "source": [
    "\"\"\" \n",
    "Part 1: Visualize the datapoints. Your plot should look similar to the sample one.\n",
    "\"\"\"\n",
    "\n",
    "import pandas as pd\n",
    "import matplotlib.pyplot as plt\n",
    "from scipy.io import loadmat\n",
    "\n",
    "# plot the data use scatter plot.\n",
    "def plot_svm_soft(boundary=False, svc=None):\n",
    "    # Your code here.\n",
    "\n",
    "plot_svm_soft()"
   ]
  },
  {
   "cell_type": "markdown",
   "id": "126234a7-4c40-4535-a415-dd60e2033997",
   "metadata": {},
   "source": [
    "![sample image for data visualization](./plot.png)"
   ]
  },
  {
   "cell_type": "code",
   "execution_count": null,
   "id": "40c9994d-0c88-47c5-aa84-ff9f8d3d40b6",
   "metadata": {},
   "outputs": [],
   "source": [
    "\"\"\" \n",
    "Part 2: Classify the datapoints and visualize the decision boundary. \n",
    "        You should print out the coefficients and the interception for the linear classifier. \n",
    "        Your plot should look like the sample one.\n",
    "\"\"\"\n",
    "from sklearn import svm\n",
    "import numpy as np\n",
    "\n",
    "# Classification with linear SVM using soft margin. \n",
    "def classify_svm_soft():\n",
    "    # Your code here.    \n",
    "\n",
    "classify_svm_soft()"
   ]
  },
  {
   "cell_type": "markdown",
   "id": "f1611b99-bb21-4ac2-a0dc-748369ce50ec",
   "metadata": {},
   "source": [
    "![sample image for data visualization](./plot2.png)"
   ]
  },
  {
   "cell_type": "markdown",
   "id": "44a968e6-012e-460d-adfa-5fa9d57545b1",
   "metadata": {},
   "source": [
    "### Q2: Kernel SVM (9 pts)\n",
    "\n",
    "You are given a dataset (svm_kernel.mat) containing 2D points ['X'] from two classes with corresponding label (0 or 1) in column ['y']. Please visualize the datapoints and classify them using linear SVM with Gaussian kernel. "
   ]
  },
  {
   "cell_type": "code",
   "execution_count": null,
   "id": "73c350be-7e85-4e8d-86fc-90b9f394270f",
   "metadata": {},
   "outputs": [],
   "source": [
    "\"\"\" \n",
    "Part 1: Visualize the datapoints. Your plot should look similar to the sample one.\n",
    "\"\"\"\n",
    "\n",
    "import pandas as pd\n",
    "import matplotlib.pyplot as plt\n",
    "from scipy.io import loadmat\n",
    " \n",
    "# plot the data use scatter plot.\n",
    "def plot_svm_kernel():\n",
    "    global data_svm_kernel\n",
    "    # Your code here.    \n",
    "\n",
    "plot_svm_kernel()"
   ]
  },
  {
   "cell_type": "markdown",
   "id": "a0bc92ee-1b3f-42d5-b8f6-9426c83e572d",
   "metadata": {},
   "source": [
    "![sample image for data visualization](./plot3.png)"
   ]
  },
  {
   "cell_type": "code",
   "execution_count": null,
   "id": "707cac46-56bd-4b08-ba31-459fd6fadec1",
   "metadata": {},
   "outputs": [],
   "source": [
    "\"\"\"\n",
    "Part 2. Classify the data points using Gaussian kernel. \n",
    "        Visualize the probabilities of the classification results.\n",
    "        If your classification is correct, your plot should look similar to the sample one.\n",
    "\"\"\"\n",
    "def classify_svm_kernel():\n",
    "    global data_svm_kernel\n",
    "    # Your code here.\n",
    "    # Hint: the gamma value for SVM classification is 100.\n",
    "    \n",
    "\n",
    "probabilities = classify_svm_kernel()\n",
    "\n",
    "fig, ax = plt.subplots(figsize=(12,8))\n",
    "ax.scatter(data_svm_kernel['X1'], data_svm_kernel['X2'], s=30, c=probabilities, cmap='Reds')\n",
    "plt.show()"
   ]
  },
  {
   "cell_type": "markdown",
   "id": "f64659ed-c5af-484e-a434-c3993daccdbe",
   "metadata": {},
   "source": [
    "![sample image for data visualization](./plot4.png)"
   ]
  },
  {
   "cell_type": "markdown",
   "id": "311f7e4d-5d92-4658-809d-1173150e032e",
   "metadata": {},
   "source": [
    "### Q3: SVM in Email Spam Detection (9 pts)\n",
    "\n",
    "Many email services today provide spam filters that are able to classify emails into spam and non-spam email with high accuracy. Please write an SVM classifier to detect spam emails. There are two data files that you need to load, one for training, i.e., \"email_train.mat\", and the other for testing, i.e., \"email_test.mat\". Your model should train on the training dataset and be applied to the test dataset to obtain the spam detection accuracy. **Your classifier should have an accuracy higher than 90% in both training and testing. Otherwise, every 10% of accuracy decrease leads to a 2 pts deduction in marks. For example, an accuracy of [80%, 90%) will get deducted for 2 pts overall, and [70%, 80%) will get deducted for 4 pts.**"
   ]
  },
  {
   "cell_type": "code",
   "execution_count": null,
   "id": "0c279118-92de-49a8-b7dc-082ea06da1da",
   "metadata": {},
   "outputs": [],
   "source": [
    "from scipy.io import loadmat\n",
    "\n",
    "def spam_detector_svm():\n",
    "    # Your code here.    \n",
    "\n",
    "    # Do not remove.\n",
    "    print('Training accuracy = {0}%'.format(np.round(svc.score(X, y) * 100, 2)))\n",
    "    print('Test accuracy = {0}%'.format(np.round(svc.score(Xtest, ytest) * 100, 2)))\n",
    "    \n",
    "spam_detector_svm()"
   ]
  },
  {
   "cell_type": "markdown",
   "id": "b923498c-1ba3-4ab6-9cd2-c83b70b7220d",
   "metadata": {},
   "source": [
    "### Q4: Bagging (9 pts)\n",
    "\n",
    "You are given a tumor dataset `tumor.csv`. The dataset contains instances with 9 features. Each instance is labeled in either benign or malignant classes (0 for benign, 1 for malignant in last column). The dataset only contains numeric values and has been normalized. Use ``RandomForestClassifier`` to calculate the mean accuracy by using 8-folds cross-validation. Number of trees set to 50."
   ]
  },
  {
   "cell_type": "code",
   "execution_count": null,
   "id": "d4ae678f-17f8-4d64-b727-800dc6680785",
   "metadata": {},
   "outputs": [],
   "source": [
    "import numpy as np\n",
    "import pandas as pd\n",
    "from sklearn import model_selection\n",
    "from sklearn.ensemble import RandomForestClassifier\n",
    "\n",
    "def classify_bagging():\n",
    "    rand_seed = 50 # Do not change\n",
    "    # Your code here.\n",
    "\n",
    "    # Do not remove.\n",
    "    print(\"Performance of random forest:%f\"% (results.mean()))\n",
    "\n",
    "classify_bagging()"
   ]
  },
  {
   "cell_type": "markdown",
   "id": "8a1d8d94-ba51-4eae-b206-c9dfcd6152f0",
   "metadata": {},
   "source": [
    "### Q5: AdaBoost (9 pts)\n",
    "\n",
    "Use AdaBoostClassifier to classify the same dataset `tumor.csv`. Compute the mean accuracy by using 8-folds cross-validation and 50 estimators."
   ]
  },
  {
   "cell_type": "code",
   "execution_count": null,
   "id": "63ce807a-5e58-4cde-8b90-65f2843e40e9",
   "metadata": {},
   "outputs": [],
   "source": [
    "from sklearn.ensemble import AdaBoostClassifier\n",
    "\n",
    "def classify_adaboost():\n",
    "    rand_seed = 50 # Do not change \n",
    "    # Your code here.\n",
    "\n",
    "    # Do not remove.\n",
    "    print(\"Performance of adaboost:%f\"% (results.mean()))\n",
    "    \n",
    "classify_adaboost()\n"
   ]
  }
 ],
 "metadata": {
  "kernelspec": {
   "display_name": "Python 3 (ipykernel)",
   "language": "python",
   "name": "python3"
  },
  "language_info": {
   "codemirror_mode": {
    "name": "ipython",
    "version": 3
   },
   "file_extension": ".py",
   "mimetype": "text/x-python",
   "name": "python",
   "nbconvert_exporter": "python",
   "pygments_lexer": "ipython3",
   "version": "3.8.2"
  }
 },
 "nbformat": 4,
 "nbformat_minor": 5
}
