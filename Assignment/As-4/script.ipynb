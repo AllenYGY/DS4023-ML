{
 "cells": [
  {
   "cell_type": "code",
   "execution_count": 1,
   "metadata": {},
   "outputs": [],
   "source": [
    "# Matrix multiplication\n",
    "\n",
    "import numpy as np\n",
    "\n",
    "def matrix_multiplication(A, B):\n",
    "    return np.dot(A, B)\n",
    "\n",
    "W1 = np.array([ \n",
    "                [0.1, -0.2,0.3,0.4],\n",
    "                [0.5, -0.3,0.1,-0.2],\n",
    "                [0.4, 0.2,-0.5,0.3]\n",
    "            ])\n",
    "\n",
    "b1 = np.array([[0.1], [-0.1], [0.05]])\n",
    "\n",
    "W2 = np.array([\n",
    "                [-0.3, 0.2, 0.1],\n",
    "                [0.4, -0.5, 0.3]\n",
    "             ])\n",
    "                \n",
    "b2 = np.array([[0.05], [-0.05]])\n",
    "\n",
    "X = np.array([[1.0], [-1.0], [0.5], [2.0]])\n",
    "\n",
    "def ReLU(x):\n",
    "    return np.maximum(0, x)\n",
    "\n",
    "def sinx(x):\n",
    "    return np.sin(x)\n",
    "\n",
    "def H(x):\n",
    "    return sinx(x)+ReLU(x)\n"
   ]
  },
  {
   "cell_type": "code",
   "execution_count": 2,
   "metadata": {},
   "outputs": [
    {
     "data": {
      "text/plain": [
       "(array([[1.35],\n",
       "        [0.35],\n",
       "        [0.6 ]]),\n",
       " array([[2.32572336],\n",
       "        [0.69289781],\n",
       "        [1.16464247]]),\n",
       " array([[-0.3926732 ],\n",
       "        [ 0.88323318]]))"
      ]
     },
     "execution_count": 2,
     "metadata": {},
     "output_type": "execute_result"
    }
   ],
   "source": [
    "Z1 = matrix_multiplication(W1, X) + b1\n",
    "H1 = H(Z1)\n",
    "Z2 = matrix_multiplication(W2, H1) + b2\n",
    "\n",
    "Z1, H1, Z2\n",
    "\n"
   ]
  }
 ],
 "metadata": {
  "kernelspec": {
   "display_name": "ML",
   "language": "python",
   "name": "python3"
  },
  "language_info": {
   "codemirror_mode": {
    "name": "ipython",
    "version": 3
   },
   "file_extension": ".py",
   "mimetype": "text/x-python",
   "name": "python",
   "nbconvert_exporter": "python",
   "pygments_lexer": "ipython3",
   "version": "3.12.7"
  }
 },
 "nbformat": 4,
 "nbformat_minor": 2
}
